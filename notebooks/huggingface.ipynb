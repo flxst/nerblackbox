{
 "cells": [
  {
   "cell_type": "markdown",
   "id": "527752d0",
   "metadata": {},
   "source": [
    "# NER with Data from HuggingFace"
   ]
  },
  {
   "cell_type": "raw",
   "id": "bab29ede",
   "metadata": {},
   "source": [
    "This example shows how nerblackbox may be used to \n",
    "- download human-annotated data from HuggingFace\n",
    "- train and apply a NER model.\n",
    "\n",
    "Steps:\n",
    "1. Download human-annotated data\n",
    "2. Train a model\n",
    "3. Evaluate the model\n",
    "4. Apply the model"
   ]
  },
  {
   "attachments": {},
   "cell_type": "markdown",
   "id": "bbb62f86",
   "metadata": {},
   "source": [
    "<div>\n",
    "<img src=\"https://github.com/flxst/nerblackbox/blob/master/docs/docs/images/nerblackbox.png?raw=true\" width=\"800\"/>\n",
    "</div>"
   ]
  },
  {
   "cell_type": "raw",
   "id": "f35850be",
   "metadata": {},
   "source": [
    "In particular, we are going to \n",
    "- use the Spanish \"ehealth_kd\" dataset\n",
    "- fine-tune the pretrained, Spanish Electra model \"mrm8488/electricidad-base-discriminator\" on the annotated data"
   ]
  },
  {
   "cell_type": "markdown",
   "id": "6c61bb36",
   "metadata": {},
   "source": [
    "# Preparations"
   ]
  },
  {
   "cell_type": "markdown",
   "id": "4a22cd99",
   "metadata": {},
   "source": [
    "### nerblackbox: Create a Store for data, models, results etc."
   ]
  },
  {
   "cell_type": "code",
   "execution_count": null,
   "id": "7f472e44",
   "metadata": {},
   "outputs": [],
   "source": [
    "# import main classes from nerblackbox\n",
    "from nerblackbox import AnnotationTool, Store, Dataset, Experiment, Model"
   ]
  },
  {
   "cell_type": "code",
   "execution_count": null,
   "id": "cb91e458",
   "metadata": {},
   "outputs": [],
   "source": [
    "Store.create()"
   ]
  },
  {
   "cell_type": "code",
   "execution_count": null,
   "id": "b2086e69",
   "metadata": {},
   "outputs": [],
   "source": [
    "# view the content of the newly created folder\n",
    "!ls store"
   ]
  },
  {
   "cell_type": "raw",
   "id": "e4961245",
   "metadata": {},
   "source": [
    "-> TODO: Confirm that the following subfolders are displayed:\n",
    "         - datasets\n",
    "         - experiment_configs\n",
    "         - pretrained_models\n",
    "         - results"
   ]
  },
  {
   "cell_type": "markdown",
   "id": "e3d783bd",
   "metadata": {},
   "source": [
    "# 1. Download human-annotated data"
   ]
  },
  {
   "cell_type": "raw",
   "id": "cc5be569",
   "metadata": {},
   "source": [
    "We download the annotated data from HuggingFace."
   ]
  },
  {
   "cell_type": "code",
   "execution_count": null,
   "id": "36a007b6",
   "metadata": {},
   "outputs": [],
   "source": [
    "dataset = Dataset(\"ehealth_kd\")\n",
    "dataset.set_up()"
   ]
  },
  {
   "cell_type": "code",
   "execution_count": null,
   "id": "7afa741c",
   "metadata": {
    "scrolled": true
   },
   "outputs": [],
   "source": [
    "# inspect the first row of the training data\n",
    "!head -n 1 ./store/datasets/ehealth_kd/train.jsonl"
   ]
  },
  {
   "cell_type": "markdown",
   "id": "b509412a",
   "metadata": {},
   "source": [
    "# 2. Train a model"
   ]
  },
  {
   "cell_type": "code",
   "execution_count": null,
   "id": "0b10baa5",
   "metadata": {},
   "outputs": [],
   "source": [
    "# define an experiment\n",
    "experiment = Experiment(\"huggingface\", dataset=\"ehealth_kd\", model=\"mrm8488/electricidad-base-discriminator\")"
   ]
  },
  {
   "cell_type": "code",
   "execution_count": null,
   "id": "cbce2cf9",
   "metadata": {},
   "outputs": [],
   "source": [
    "# run the experiment (this will take at least a few minutes)\n",
    "experiment.run()"
   ]
  },
  {
   "cell_type": "code",
   "execution_count": null,
   "id": "6072f083",
   "metadata": {},
   "outputs": [],
   "source": [
    "# inspect the model performance\n",
    "experiment.get_result(label=\"micro\", level=\"entity\", metric=\"f1\", phase=\"test\")"
   ]
  },
  {
   "cell_type": "markdown",
   "id": "b3cfe284",
   "metadata": {},
   "source": [
    "# 3. Evaluate the model"
   ]
  },
  {
   "cell_type": "raw",
   "id": "2e4a416f",
   "metadata": {},
   "source": [
    "We load the trained model and evaluate its performance on the test dataset."
   ]
  },
  {
   "cell_type": "markdown",
   "id": "1b205c56",
   "metadata": {},
   "source": [
    "### 3a. Evaluate our model"
   ]
  },
  {
   "cell_type": "code",
   "execution_count": null,
   "id": "e6276461",
   "metadata": {},
   "outputs": [],
   "source": [
    "# load the model\n",
    "model = Model.from_experiment(\"huggingface\")"
   ]
  },
  {
   "cell_type": "code",
   "execution_count": null,
   "id": "96438408",
   "metadata": {},
   "outputs": [],
   "source": [
    "# evaluate and get the micro-averaged f1 score\n",
    "evaluation_dict = model.evaluate_on_dataset(\"ehealth_kd\", \"jsonl\", phase=\"test\")\n",
    "evaluation_dict[\"micro\"][\"entity\"][\"f1\"]"
   ]
  },
  {
   "cell_type": "raw",
   "id": "25aefed0",
   "metadata": {},
   "source": [
    "-> TODO: Confirm that the result is equivalent to the one we got at the end of section C from experiment.get_result()"
   ]
  },
  {
   "cell_type": "markdown",
   "id": "a65b247f",
   "metadata": {},
   "source": [
    "### 3b. Evaluate other model from HuggingFace"
   ]
  },
  {
   "cell_type": "code",
   "execution_count": null,
   "id": "691cb6c1",
   "metadata": {},
   "outputs": [],
   "source": [
    "# load a model from HuggingFace that was trained on (nearly) the same data\n",
    "model_huggingface = Model.from_huggingface(\"fmmolina/bert-base-spanish-wwm-uncased-finetuned-NER-medical\")"
   ]
  },
  {
   "cell_type": "code",
   "execution_count": null,
   "id": "49393acd",
   "metadata": {},
   "outputs": [],
   "source": [
    "# evaluate and get the micro-averaged f1 score\n",
    "evaluation_dict_huggingface = model_huggingface.evaluate_on_dataset(\"ehealth_kd\", \"jsonl\", phase=\"test\")\n",
    "evaluation_dict_huggingface[\"micro\"][\"entity\"][\"f1\"]"
   ]
  },
  {
   "cell_type": "markdown",
   "id": "877d5b30",
   "metadata": {},
   "source": [
    "# 4. Apply the model"
   ]
  },
  {
   "cell_type": "raw",
   "id": "46876b3a",
   "metadata": {},
   "source": [
    "We let the model predict. First on a single example, then on the test data."
   ]
  },
  {
   "cell_type": "markdown",
   "id": "7a46b265",
   "metadata": {},
   "source": [
    "### 4a. Single example"
   ]
  },
  {
   "cell_type": "code",
   "execution_count": null,
   "id": "cfb2a062",
   "metadata": {},
   "outputs": [],
   "source": [
    "# predict on single example sentence\n",
    "model.predict(\"La vitamina D ayuda al cuerpo a absorber el calcio.\")"
   ]
  },
  {
   "cell_type": "raw",
   "id": "2bd52fed",
   "metadata": {},
   "source": [
    "-> TODO: Compare to human-annotated data: \n",
    "         [[\n",
    "             {\"char_start\": \"3\", \"char_end\": \"13\", \"token\": \"vitamina D\", \"tag\": \"Concept\"}, \n",
    "             {\"char_start\": \"14\", \"char_end\": \"19\", \"token\": \"ayuda\", \"tag\": \"Action\"}, \n",
    "             {\"char_start\": \"23\", \"char_end\": \"29\", \"token\": \"cuerpo\", \"tag\": \"Concept\"}, \n",
    "             {\"char_start\": \"32\", \"char_end\": \"40\", \"token\": \"absorber\", \"tag\": \"Action\"}, \n",
    "             {\"char_start\": \"44\", \"char_end\": \"50\", \"token\": \"calcio\", \"tag\": \"Concept\"},\n",
    "         ]]"
   ]
  },
  {
   "cell_type": "markdown",
   "id": "9b813f1d",
   "metadata": {},
   "source": [
    "### 4b. Test data"
   ]
  },
  {
   "cell_type": "code",
   "execution_count": null,
   "id": "1d7ddf59",
   "metadata": {},
   "outputs": [],
   "source": [
    "# let the model annotate the test data\n",
    "input_file = \"./store/datasets/ehealth_kd/test.jsonl\"\n",
    "output_file = \"./store/datasets/ehealth_kd/test_model_annotated.jsonl\"\n",
    "\n",
    "model.predict_on_file(input_file, output_file)"
   ]
  },
  {
   "cell_type": "code",
   "execution_count": null,
   "id": "4cb739ee",
   "metadata": {},
   "outputs": [],
   "source": [
    "# inspect the first row of \"test_model_annotated.jsonl\"\n",
    "!head -n 1 ./store/datasets/ehealth_kd/test_model_annotated.jsonl"
   ]
  }
 ],
 "metadata": {
  "kernelspec": {
   "display_name": "Python 3 (ipykernel)",
   "language": "python",
   "name": "python3"
  },
  "language_info": {
   "codemirror_mode": {
    "name": "ipython",
    "version": 3
   },
   "file_extension": ".py",
   "mimetype": "text/x-python",
   "name": "python",
   "nbconvert_exporter": "python",
   "pygments_lexer": "ipython3",
   "version": "3.8.10"
  }
 },
 "nbformat": 4,
 "nbformat_minor": 5
}
