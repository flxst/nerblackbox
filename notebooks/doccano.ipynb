{
 "cells": [
  {
   "cell_type": "markdown",
   "id": "527752d0",
   "metadata": {},
   "source": [
    "# NER with Data from Doccano"
   ]
  },
  {
   "cell_type": "raw",
   "id": "bab29ede",
   "metadata": {},
   "source": [
    "This example shows how nerblackbox may be used to \n",
    "- create human-annotated data in Doccano\n",
    "- train and apply a NER model.\n",
    "\n",
    "Steps:\n",
    "0. Create human-annotated data\n",
    "1. Download human-annotated data\n",
    "2. Train a model\n",
    "3. Evaluate the model\n",
    "4. Apply the model\n",
    "5. Upload model-annotated data"
   ]
  },
  {
   "cell_type": "markdown",
   "id": "bbb62f86",
   "metadata": {},
   "source": [
    "<div>\n",
    "<img src=\"https://github.com/flxst/nerblackbox/blob/master/docs/docs/images/nerblackbox_doccano.png?raw=true\" width=\"800\"/>\n",
    "</div>"
   ]
  },
  {
   "cell_type": "raw",
   "id": "f35850be",
   "metadata": {},
   "source": [
    "In particular, we are going to \n",
    "- use the Spanish \"ehealth_kd\" dataset as a proxy to simulate the results of the annotation process\n",
    "- fine-tune the pretrained, Spanish Electra model \"mrm8488/electricidad-base-discriminator\" on the annotated data"
   ]
  },
  {
   "cell_type": "markdown",
   "id": "6c61bb36",
   "metadata": {},
   "source": [
    "# Preparations"
   ]
  },
  {
   "cell_type": "markdown",
   "id": "f2518498",
   "metadata": {},
   "source": [
    "### nerblackbox: Create a Store for data, models, results etc."
   ]
  },
  {
   "cell_type": "code",
   "execution_count": null,
   "id": "7f472e44",
   "metadata": {},
   "outputs": [],
   "source": [
    "# import main classes from nerblackbox\n",
    "from nerblackbox import AnnotationTool, Store, Dataset, Experiment, Model"
   ]
  },
  {
   "cell_type": "code",
   "execution_count": null,
   "id": "cb91e458",
   "metadata": {},
   "outputs": [],
   "source": [
    "Store.create()"
   ]
  },
  {
   "cell_type": "code",
   "execution_count": null,
   "id": "b2086e69",
   "metadata": {},
   "outputs": [],
   "source": [
    "# view the content of the newly created folder\n",
    "!ls store"
   ]
  },
  {
   "cell_type": "raw",
   "id": "e4961245",
   "metadata": {},
   "source": [
    "-> TODO: Confirm that the following subfolders are displayed:\n",
    "         - datasets\n",
    "         - experiment_configs\n",
    "         - pretrained_models\n",
    "         - results"
   ]
  },
  {
   "cell_type": "markdown",
   "id": "493a9388",
   "metadata": {},
   "source": [
    "### Doccano: Run Server & Connect"
   ]
  },
  {
   "cell_type": "raw",
   "id": "edeb617e",
   "metadata": {},
   "source": [
    "We need to run a Doccano server and connect nerblackbox to it. \n",
    "It is best to run in a separate environment."
   ]
  },
  {
   "cell_type": "raw",
   "id": "9d92aaa0",
   "metadata": {},
   "source": [
    "-> TODO: \n",
    "1. Create a virtual environment (see README_notebooks.md if you need help with this)\n",
    "2. Install Doccano using \"pip install doccano==1.8.3\"\n",
    "3. Run the commands \"doccano init\" and \"doccano createuser --username admin --password password\"\n",
    "4. Run the command \"doccano webserver --port 8082\" to start the Doccano server\n",
    "5. In another terminal, run the command \"doccano task\" to start the Doccano task queue\n",
    "6. Confirm that the cell below produces html output"
   ]
  },
  {
   "cell_type": "code",
   "execution_count": null,
   "id": "ef047d8b",
   "metadata": {},
   "outputs": [],
   "source": [
    "# check that Doccano server is running\n",
    "!curl http://localhost:8082/v1/health/"
   ]
  },
  {
   "cell_type": "raw",
   "id": "5f1cc344",
   "metadata": {},
   "source": [
    "-> TODO:\n",
    "1. Open the Doccano UI in your browser at http://localhost:8082\n",
    "2. Sign up with username=admin and password=password\n",
    "3. Run the cell below and confirm that the entries in \"doccano.ini\" are correct.         "
   ]
  },
  {
   "cell_type": "code",
   "execution_count": null,
   "id": "0a574231",
   "metadata": {},
   "outputs": [],
   "source": [
    "# show configuration file for Doccano\n",
    "!cat doccano.ini"
   ]
  },
  {
   "cell_type": "code",
   "execution_count": null,
   "id": "a42c995c",
   "metadata": {},
   "outputs": [],
   "source": [
    "# connect to Doccano\n",
    "annotation_tool = AnnotationTool.from_config(dataset_name=\"ehealth_kd\", config_file=f\"doccano.ini\")\n",
    "\n",
    "assert annotation_tool.connected is True"
   ]
  },
  {
   "cell_type": "markdown",
   "id": "ca6fc442",
   "metadata": {},
   "source": [
    "# 0. Create human-annotated data"
   ]
  },
  {
   "cell_type": "code",
   "execution_count": null,
   "id": "aebba3b4",
   "metadata": {},
   "outputs": [],
   "source": [
    "from utils import prepare_raw_data, upload_raw_data, simulate_annotation"
   ]
  },
  {
   "cell_type": "markdown",
   "id": "595ee4f4",
   "metadata": {},
   "source": [
    "### 0a. Prepare raw data"
   ]
  },
  {
   "cell_type": "raw",
   "id": "e4a7d4d6",
   "metadata": {},
   "source": [
    "First, we prepare some raw data and save it in the folder \"./store/datasets/ehealth_kd\"\n",
    "More specifically, we create 2 separate files called \"annotated_data.jsonl\" and \"raw_data.jsonl\""
   ]
  },
  {
   "cell_type": "code",
   "execution_count": null,
   "id": "5c356af9",
   "metadata": {},
   "outputs": [],
   "source": [
    "prepare_raw_data(\"ehealth_kd\")"
   ]
  },
  {
   "cell_type": "code",
   "execution_count": null,
   "id": "ae03e4c1",
   "metadata": {},
   "outputs": [],
   "source": [
    "# check that the files exist\n",
    "!ls ./store/datasets/ehealth_kd/*_data.jsonl"
   ]
  },
  {
   "cell_type": "code",
   "execution_count": null,
   "id": "615d0313",
   "metadata": {
    "scrolled": true
   },
   "outputs": [],
   "source": [
    "# inspect the first row of \"annotated_data.jsonl\"\n",
    "!head -n 1 ./store/datasets/ehealth_kd/annotated_data.jsonl"
   ]
  },
  {
   "cell_type": "raw",
   "id": "42cd1604",
   "metadata": {},
   "source": [
    "-> NOTE: the data---despite the name of the file---does not contain any annotations yet."
   ]
  },
  {
   "cell_type": "markdown",
   "id": "c7b21308",
   "metadata": {},
   "source": [
    "### 0b. Upload raw data"
   ]
  },
  {
   "cell_type": "raw",
   "id": "fc64a659",
   "metadata": {},
   "source": [
    "Next, we upload the data to Doccano."
   ]
  },
  {
   "cell_type": "code",
   "execution_count": null,
   "id": "17fb27b0",
   "metadata": {},
   "outputs": [],
   "source": [
    "upload_raw_data(\"ehealth_kd\", annotation_tool)"
   ]
  },
  {
   "cell_type": "raw",
   "id": "91a37ddf",
   "metadata": {},
   "source": [
    "-> TODO: Inspect the data in the Doccano UI. Note that there are no annotations."
   ]
  },
  {
   "cell_type": "markdown",
   "id": "50cc8c98",
   "metadata": {},
   "source": [
    "### 0c. Simulate annotation"
   ]
  },
  {
   "cell_type": "raw",
   "id": "8853993b",
   "metadata": {},
   "source": [
    "We simulate the annotation of the \"annotated_data\""
   ]
  },
  {
   "cell_type": "code",
   "execution_count": null,
   "id": "a885512f",
   "metadata": {},
   "outputs": [],
   "source": [
    "simulate_annotation(\"ehealth_kd\", annotation_tool)"
   ]
  },
  {
   "cell_type": "code",
   "execution_count": null,
   "id": "4e0b4ae9",
   "metadata": {
    "scrolled": true
   },
   "outputs": [],
   "source": [
    "# inspect the first row of \"annotated_data.jsonl\"\n",
    "!head -n 1 ./store/datasets/ehealth_kd/annotated_data.jsonl"
   ]
  },
  {
   "cell_type": "raw",
   "id": "194219da",
   "metadata": {},
   "source": [
    "-> NOTE: the data now contains annotations"
   ]
  },
  {
   "cell_type": "raw",
   "id": "aed1b120",
   "metadata": {},
   "source": [
    "-> TODO: Inspect the data in the Doccano UI again. Confirm that the \"annotated_data\" now contains annotations."
   ]
  },
  {
   "cell_type": "markdown",
   "id": "e3d783bd",
   "metadata": {},
   "source": [
    "# 1. Download human-annotated data"
   ]
  },
  {
   "cell_type": "raw",
   "id": "cc5be569",
   "metadata": {},
   "source": [
    "We download the annotated data from Doccano. "
   ]
  },
  {
   "cell_type": "code",
   "execution_count": null,
   "id": "36a007b6",
   "metadata": {},
   "outputs": [],
   "source": [
    "annotation_tool.download(project_name=\"annotated_data\")"
   ]
  },
  {
   "cell_type": "code",
   "execution_count": null,
   "id": "7afa741c",
   "metadata": {
    "scrolled": true
   },
   "outputs": [],
   "source": [
    "# inspect the first row of \"annotated_data.jsonl\"\n",
    "!head -n 1 ./store/datasets/ehealth_kd/annotated_data.jsonl"
   ]
  },
  {
   "cell_type": "markdown",
   "id": "b509412a",
   "metadata": {},
   "source": [
    "# 2. Train a model"
   ]
  },
  {
   "cell_type": "markdown",
   "id": "118d1c7a",
   "metadata": {},
   "source": [
    "### 2a. Prepare data"
   ]
  },
  {
   "cell_type": "raw",
   "id": "cd54b764",
   "metadata": {},
   "source": [
    "Machine Learning detail: \n",
    "We need to split off a validation and test dataset to train and evaluate the model. \n",
    "This only needs to be done once and is taken care of by Dataset.set_up()"
   ]
  },
  {
   "cell_type": "code",
   "execution_count": null,
   "id": "a08561e6",
   "metadata": {},
   "outputs": [],
   "source": [
    "file_path = annotation_tool.get_file_path(project_name=\"annotated_data\")\n",
    "dataset = Dataset(name=\"ehealth_kd\", source=\"LF\", pretokenized=False, split=False, file_path=file_path)\n",
    "dataset.set_up()"
   ]
  },
  {
   "cell_type": "markdown",
   "id": "d2eda767",
   "metadata": {},
   "source": [
    "### 2b. train"
   ]
  },
  {
   "cell_type": "code",
   "execution_count": null,
   "id": "0b10baa5",
   "metadata": {},
   "outputs": [],
   "source": [
    "# define an experiment\n",
    "experiment = Experiment(\"doccano\", dataset=\"ehealth_kd\", model=\"mrm8488/electricidad-base-discriminator\")"
   ]
  },
  {
   "cell_type": "code",
   "execution_count": null,
   "id": "cbce2cf9",
   "metadata": {},
   "outputs": [],
   "source": [
    "# run the experiment (this will take at least a few minutes)\n",
    "experiment.run()"
   ]
  },
  {
   "cell_type": "code",
   "execution_count": null,
   "id": "6072f083",
   "metadata": {},
   "outputs": [],
   "source": [
    "# inspect the model performance\n",
    "experiment.get_result(label=\"micro\", level=\"entity\", metric=\"f1\", phase=\"test\")"
   ]
  },
  {
   "cell_type": "markdown",
   "id": "b3cfe284",
   "metadata": {},
   "source": [
    "# 3. Evaluate the model"
   ]
  },
  {
   "cell_type": "raw",
   "id": "2e4a416f",
   "metadata": {},
   "source": [
    "We load the trained model and evaluate its performance on the test dataset."
   ]
  },
  {
   "cell_type": "code",
   "execution_count": null,
   "id": "e6276461",
   "metadata": {},
   "outputs": [],
   "source": [
    "# load the model\n",
    "model = Model.from_experiment(\"doccano\")"
   ]
  },
  {
   "cell_type": "code",
   "execution_count": null,
   "id": "96438408",
   "metadata": {},
   "outputs": [],
   "source": [
    "# evaluate and get the micro-averaged f1 score\n",
    "results = model.evaluate_on_dataset(\"ehealth_kd\", \"jsonl\", phase=\"test\")\n",
    "results[\"micro\"][\"entity\"][\"f1\"]"
   ]
  },
  {
   "cell_type": "raw",
   "id": "25aefed0",
   "metadata": {},
   "source": [
    "-> TODO: Confirm that the result is equivalent to the one we got at the end of section C from experiment.get_result()"
   ]
  },
  {
   "cell_type": "markdown",
   "id": "877d5b30",
   "metadata": {},
   "source": [
    "# 4. Apply the model"
   ]
  },
  {
   "cell_type": "raw",
   "id": "46876b3a",
   "metadata": {},
   "source": [
    "We let the model predict. First on a single example, then on the raw data."
   ]
  },
  {
   "cell_type": "markdown",
   "id": "7a46b265",
   "metadata": {},
   "source": [
    "### 4a. Single example"
   ]
  },
  {
   "cell_type": "code",
   "execution_count": null,
   "id": "cfb2a062",
   "metadata": {},
   "outputs": [],
   "source": [
    "# predict on single example sentence\n",
    "model.predict(\"La vitamina D ayuda al cuerpo a absorber el calcio.\")"
   ]
  },
  {
   "cell_type": "raw",
   "id": "2bd52fed",
   "metadata": {},
   "source": [
    "-> TODO: Compare to human-annotated data: \n",
    "         [[\n",
    "             {\"char_start\": \"3\", \"char_end\": \"13\", \"token\": \"vitamina D\", \"tag\": \"Concept\"}, \n",
    "             {\"char_start\": \"14\", \"char_end\": \"19\", \"token\": \"ayuda\", \"tag\": \"Action\"}, \n",
    "             {\"char_start\": \"23\", \"char_end\": \"29\", \"token\": \"cuerpo\", \"tag\": \"Concept\"}, \n",
    "             {\"char_start\": \"32\", \"char_end\": \"40\", \"token\": \"absorber\", \"tag\": \"Action\"}, \n",
    "             {\"char_start\": \"44\", \"char_end\": \"50\", \"token\": \"calcio\", \"tag\": \"Concept\"},\n",
    "         ]]"
   ]
  },
  {
   "cell_type": "markdown",
   "id": "276bfb14",
   "metadata": {},
   "source": [
    "### 4b. Raw data"
   ]
  },
  {
   "cell_type": "code",
   "execution_count": null,
   "id": "8c62febb",
   "metadata": {},
   "outputs": [],
   "source": [
    "# download the raw data\n",
    "annotation_tool.download(project_name=\"raw_data\")"
   ]
  },
  {
   "cell_type": "code",
   "execution_count": null,
   "id": "3ea5e47c",
   "metadata": {},
   "outputs": [],
   "source": [
    "# let the model annotate the raw data \n",
    "input_file = annotation_tool.get_file_path(project_name=\"raw_data\")\n",
    "output_file = annotation_tool.get_file_path(project_name=\"raw_data_model_annotated\")\n",
    "\n",
    "model.predict_on_file(input_file, output_file)"
   ]
  },
  {
   "cell_type": "code",
   "execution_count": null,
   "id": "d01287b0",
   "metadata": {},
   "outputs": [],
   "source": [
    "# inspect the first row of \"raw_data_model_annotated.jsonl\"\n",
    "!head -n 1 ./store/datasets/ehealth_kd/raw_data_model_annotated.jsonl"
   ]
  },
  {
   "cell_type": "markdown",
   "id": "de060f56",
   "metadata": {},
   "source": [
    "# 5. Upload model-annotated data"
   ]
  },
  {
   "cell_type": "raw",
   "id": "e82299af",
   "metadata": {},
   "source": [
    "Finally, we upload the model-annotated data to Doccano so that we can inspect it."
   ]
  },
  {
   "cell_type": "code",
   "execution_count": null,
   "id": "2722e93c",
   "metadata": {},
   "outputs": [],
   "source": [
    "# upload the model-annotated data\n",
    "annotation_tool.upload(project_name=\"raw_data_model_annotated\")"
   ]
  },
  {
   "cell_type": "raw",
   "id": "42344b22",
   "metadata": {},
   "source": [
    "-> TODO: Inspect the data in the Doccano UI again. \n",
    "         Confirm that the \"raw_data_model_annotated\" contains annotations."
   ]
  }
 ],
 "metadata": {
  "kernelspec": {
   "display_name": "Python 3 (ipykernel)",
   "language": "python",
   "name": "python3"
  },
  "language_info": {
   "codemirror_mode": {
    "name": "ipython",
    "version": 3
   },
   "file_extension": ".py",
   "mimetype": "text/x-python",
   "name": "python",
   "nbconvert_exporter": "python",
   "pygments_lexer": "ipython3",
   "version": "3.8.10"
  }
 },
 "nbformat": 4,
 "nbformat_minor": 5
}
